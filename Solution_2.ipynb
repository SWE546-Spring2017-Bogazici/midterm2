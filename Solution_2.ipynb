{
 "cells": [
  {
   "cell_type": "code",
   "execution_count": 71,
   "metadata": {
    "collapsed": false,
    "scrolled": true
   },
   "outputs": [
    {
     "name": "stdout",
     "output_type": "stream",
     "text": [
      "2.0362243537 8.1448974148 29.9324979994\n",
      "2.0362243537\n"
     ]
    }
   ],
   "source": [
    "%matplotlib inline\n",
    "\n",
    "import scipy as sc\n",
    "import numpy as np\n",
    "import pandas as pd\n",
    "import matplotlib as mpl\n",
    "import matplotlib.pylab as plt\n",
    "\n",
    "x2 = 1\n",
    "x4 = 1\n",
    "x6 = 1\n",
    "\n",
    "a = 1\n",
    "for i in range(1000):\n",
    "    b = np.matrix(np.array([x2,4, x4, 15.7, x6, 61.2])).T\n",
    "    A = np.matrix(np.array([1, x2, 4, x4, 14.7, x6])).T\n",
    "    res = np.linalg.lstsq(A,b)\n",
    "    a = float(res[0])\n",
    "    x2 = a * 1\n",
    "    x4 = a * 4\n",
    "    x6 = a * 14.7\n",
    "\n",
    "print x2,x4,x6\n",
    "print a\n"
   ]
  },
  {
   "cell_type": "code",
   "execution_count": null,
   "metadata": {
    "collapsed": false
   },
   "outputs": [],
   "source": []
  },
  {
   "cell_type": "code",
   "execution_count": null,
   "metadata": {
    "collapsed": true
   },
   "outputs": [],
   "source": []
  }
 ],
 "metadata": {
  "kernelspec": {
   "display_name": "Python 2",
   "language": "python",
   "name": "python2"
  },
  "language_info": {
   "codemirror_mode": {
    "name": "ipython",
    "version": 2
   },
   "file_extension": ".py",
   "mimetype": "text/x-python",
   "name": "python",
   "nbconvert_exporter": "python",
   "pygments_lexer": "ipython2",
   "version": "2.7.13"
  }
 },
 "nbformat": 4,
 "nbformat_minor": 2
}
