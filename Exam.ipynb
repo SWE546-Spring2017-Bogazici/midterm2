{
 "cells": [
  {
   "cell_type": "markdown",
   "metadata": {},
   "source": [
    "Xt=aXt-1+Et"
   ]
  },
  {
   "cell_type": "code",
   "execution_count": 2,
   "metadata": {
    "collapsed": true
   },
   "outputs": [],
   "source": [
    "import numpy as np\n",
    "import matplotlib.pyplot as plt\n",
    "import pandas as pd\n",
    "import scipy as sc\n",
    "import scipy.linalg as la"
   ]
  },
  {
   "cell_type": "code",
   "execution_count": 1,
   "metadata": {
    "collapsed": false
   },
   "outputs": [
    {
     "name": "stdout",
     "output_type": "stream",
     "text": [
      "2.0323732337590505\n",
      "1.9806617363444567\n",
      "7.407674893928267\n",
      "30.066445157708852\n",
      "[1.0, 1.9806617363444567, 4.0, 7.407674893928267, 14.7, 30.066445157708852, 61.2]\n",
      "[1.0, 2.0323732337590505, 4.0, 8.129492935036202, 14.7, 29.87588653625804, 61.2]\n"
     ]
    }
   ],
   "source": [
    "a=1.5\n",
    "for i in range(1000):\n",
    "    x1=(5*a)/(a**2+1)\n",
    "    x3=(18.7*a)/(a**2+1)\n",
    "    x5=(75.9*a)/(a**2+1)\n",
    "    a=(5*x1+18.7*x3+75.9*x5)/(233.09+x1**2+x3**2+x5**2)\n",
    "data=[1.0,x1,4.0,x3,14.7,x5,61.2]\n",
    "data_x=[1.0,a,4.0,4*a,14.7,14.7*a,61.2]\n",
    "print(a)\n",
    "print(x1)\n",
    "print(x3)\n",
    "print(x5)\n",
    "print(data)\n",
    "print(data_x)\n"
   ]
  },
  {
   "cell_type": "code",
   "execution_count": null,
   "metadata": {
    "collapsed": true
   },
   "outputs": [],
   "source": []
  },
  {
   "cell_type": "code",
   "execution_count": null,
   "metadata": {
    "collapsed": true
   },
   "outputs": [],
   "source": []
  }
 ],
 "metadata": {
  "kernelspec": {
   "display_name": "Python 3",
   "language": "python",
   "name": "python3"
  },
  "language_info": {
   "codemirror_mode": {
    "name": "ipython",
    "version": 3
   },
   "file_extension": ".py",
   "mimetype": "text/x-python",
   "name": "python",
   "nbconvert_exporter": "python",
   "pygments_lexer": "ipython3",
   "version": "3.6.0"
  }
 },
 "nbformat": 4,
 "nbformat_minor": 2
}
