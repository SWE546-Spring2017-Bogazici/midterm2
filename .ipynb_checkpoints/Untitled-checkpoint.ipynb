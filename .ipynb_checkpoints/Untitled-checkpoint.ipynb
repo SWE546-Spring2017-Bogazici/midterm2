{
 "cells": [
  {
   "cell_type": "code",
   "execution_count": 19,
   "metadata": {
    "collapsed": false
   },
   "outputs": [
    {
     "name": "stdout",
     "output_type": "stream",
     "text": [
      "[[ 2.03200612]]\n"
     ]
    }
   ],
   "source": [
    "%matplotlib inline\n",
    "\n",
    "import scipy as sc\n",
    "import numpy as np\n",
    "import pandas as pd\n",
    "import matplotlib as mpl\n",
    "import matplotlib.pylab as plt\n",
    "\n",
    "# First solution with linalg.lstsq function:\n",
    "\n",
    "x_1 = 2\n",
    "x_3 = 2\n",
    "x_5 = 2\n",
    "\n",
    "y = np.matrix([[x_1],[4],[x_3],[14.7],[x_5],[61.2]])\n",
    "A = np.matrix([[1],[x_1],[4],[x_3],[14.7],[x_5]])\n",
    "   \n",
    "for i in range (10000):\n",
    "    w_ls,E,rank,sigma = np.linalg.lstsq(A, y) \n",
    "    \n",
    "    A[1,0] = w_ls[0] * 1\n",
    "    A[3,0] = w_ls[0] * 4\n",
    "    A[5,0] = w_ls[0] * 14.7\n",
    "    \n",
    "    y[0,0] = A[1,0]\n",
    "    y[2,0] = A[3,0]\n",
    "    y[4,0] = A[5,0]\n",
    "\n",
    "print(w_ls[0]) "
   ]
  },
  {
   "cell_type": "code",
   "execution_count": 25,
   "metadata": {
    "collapsed": false
   },
   "outputs": [
    {
     "name": "stdout",
     "output_type": "stream",
     "text": [
      "2.0271526716\n"
     ]
    }
   ],
   "source": [
    "# Second solution by differentiating manually:\n",
    "\n",
    "y = np.matrix([[x_1,1],[4,x_1],[x_3,4],[14.7,x_3],[x_5,14.7],[61.2,x_5]])\n",
    "\n",
    "x_1 = 2\n",
    "x_3 = 8\n",
    "x_5 = 32\n",
    "\n",
    "EPOCH = 1000000\n",
    "\n",
    "for k in range (EPOCH):\n",
    "    denominator = 0\n",
    "    for j in range (6):\n",
    "        denominator += y[j,1]**2\n",
    "    a = 0\n",
    "    for i in range (6):\n",
    "        a += (y[i,0] * y[i,1]) / denominator\n",
    "    x_1 = (5*a) / (a**2 + 1)\n",
    "    x_3 = (18.7*a) / (a**2 + 1)\n",
    "    x_5 = (75.9*a) / (a**2 + 1)\n",
    "  \n",
    "    \n",
    "print(a)"
   ]
  },
  {
   "cell_type": "code",
   "execution_count": null,
   "metadata": {
    "collapsed": true
   },
   "outputs": [],
   "source": []
  }
 ],
 "metadata": {
  "kernelspec": {
   "display_name": "Python 3",
   "language": "python",
   "name": "python3"
  },
  "language_info": {
   "codemirror_mode": {
    "name": "ipython",
    "version": 3
   },
   "file_extension": ".py",
   "mimetype": "text/x-python",
   "name": "python",
   "nbconvert_exporter": "python",
   "pygments_lexer": "ipython3",
   "version": "3.6.0"
  }
 },
 "nbformat": 4,
 "nbformat_minor": 2
}
