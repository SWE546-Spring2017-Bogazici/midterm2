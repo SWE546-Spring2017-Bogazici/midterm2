{
 "cells": [
  {
   "cell_type": "code",
   "execution_count": 14,
   "metadata": {
    "collapsed": false
   },
   "outputs": [
    {
     "name": "stdout",
     "output_type": "stream",
     "text": [
      "[1.0, 2.0323732337590505, 4.0, 8.129492935036202, 14.7, 29.87588653625804, 61.2]\n"
     ]
    }
   ],
   "source": [
    "def getX(pre,post,a):\n",
    "    result=a*(pre+post)/(1+a**2)\n",
    "    return result\n",
    "x1=0\n",
    "x3=0\n",
    "x5=0\n",
    "data=[1.0,x1,4.0,x3,14.7,x5,61.2]  \n",
    "a=1.5\n",
    "for i in range(1000):\n",
    "    x1=getX(data[0],data[2],a)\n",
    "    x3=getX(data[2],data[4],a)\n",
    "    x5=getX(data[4],data[6],a)\n",
    "    data[1]=x1\n",
    "    data[3]=x3\n",
    "    data[5]=x5\n",
    "    numerator=0\n",
    "    denominator=0\n",
    "    for j in range(len(data)-1):\n",
    "        numerator+=data[j]*data[j+1]\n",
    "        denominator+=data[j]**2\n",
    "    a=numerator/denominator\n",
    "data_x=[1.0,a*1,4.0,a*4,14.7,a*14.7,61.2]\n",
    "print(data_x)"
   ]
  },
  {
   "cell_type": "code",
   "execution_count": null,
   "metadata": {
    "collapsed": true
   },
   "outputs": [],
   "source": []
  }
 ],
 "metadata": {
  "kernelspec": {
   "display_name": "Python 3",
   "language": "python",
   "name": "python3"
  },
  "language_info": {
   "codemirror_mode": {
    "name": "ipython",
    "version": 3
   },
   "file_extension": ".py",
   "mimetype": "text/x-python",
   "name": "python",
   "nbconvert_exporter": "python",
   "pygments_lexer": "ipython3",
   "version": "3.6.0"
  }
 },
 "nbformat": 4,
 "nbformat_minor": 2
}
