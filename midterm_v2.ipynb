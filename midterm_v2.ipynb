{
 "cells": [
  {
   "cell_type": "markdown",
   "metadata": {},
   "source": [
    "\\begin{eqnarray}\n",
    "\\left(\n",
    "\\begin{array}{c}\n",
    "x_2 \\\\ x_3 \\\\ \\vdots \\\\ x_{N} \n",
    "\\end{array}\n",
    "\\right)\n",
    "\\approx\n",
    "\\left(\n",
    "\\begin{array}{cc}\n",
    "x_1 \\\\ x_2  \\\\ \\vdots \\\\ x_{N-1}  \n",
    "\\end{array}\n",
    "\\right) \n",
    "\\left(\n",
    "\\begin{array}{c}\n",
    " a  \n",
    "\\end{array}\n",
    "\\right)\n",
    "\\end{eqnarray}\n",
    "\n",
    "\n",
    "* Observations (x): $\\{1, x_2, 4, x_4, 14.7, x_6, 61.2 \\}$\n",
    "\n",
    "\\begin{eqnarray}\n",
    "\\left(\n",
    "\\begin{array}{c}\n",
    "x_2 \\\\ 4 \\\\ x_4 \\\\ 14.7 \\\\ x_6 \n",
    "\\end{array}\n",
    "\\right)\n",
    "\\approx\n",
    "\\left(\n",
    "\\begin{array}{cc}\n",
    "1 \\\\ x_2 \\\\ 4 \\\\ x_4 \\\\ 14.7\n",
    "\\end{array}\n",
    "\\right) \n",
    "\\left(\n",
    "\\begin{array}{c}\n",
    " a\n",
    "\\end{array}\n",
    "\\right)\n",
    "\\end{eqnarray}\n",
    "\n",
    "\n",
    "* Error vector: $$e = y - Aa$$\n",
    "\n",
    "\n",
    "\\begin{eqnarray}\n",
    "E(x_2, x_4, x_6, a) & = & (x_2 - a)^2 + (4 - x_2a)^2 + (x_4 - 4a)^2 + (14.7 - x_4a)^2 + (x_6- 14.7a)^2 + (61.2-x_6a)^2\n",
    "\\end{eqnarray}\n"
   ]
  },
  {
   "cell_type": "code",
   "execution_count": 49,
   "metadata": {
    "collapsed": false
   },
   "outputs": [
    {
     "name": "stdout",
     "output_type": "stream",
     "text": [
      "2.032373233759073\n"
     ]
    }
   ],
   "source": [
    "%matplotlib inline\n",
    "\n",
    "import scipy as sc\n",
    "import numpy as np\n",
    "import pandas as pd\n",
    "import matplotlib as mpl\n",
    "import matplotlib.pylab as plt\n",
    "\n",
    "x2=5\n",
    "x4=5\n",
    "x6=5\n",
    "a=5\n",
    "\n",
    "def derivativeWRTX2():\n",
    "    return x2*(a**2)+x2-5*a\n",
    "def derivativeWRTX4():\n",
    "    return x4*(a**2)+x4-18.7*a\n",
    "def derivativeWRTX6():\n",
    "    return x6*(a**2)+x6-75.9*a\n",
    "def derivativeWRTa():\n",
    "    return (a-x2)-x2*(4-x2*a)-4*(x4-4*a)-x4*(14.7-x4*a)-14.7*(x6-14.7*a)-x6*(61.2-x6*a)\n",
    "def totalError():\n",
    "    return x2-a+4-x2*a+x4-4*a+14.7-x4*a+x6-14.7*a+61.2-x6*a\n",
    "    \n",
    "eta = 0.001\n",
    "for i in range(10000):\n",
    "    x2 = x2 - derivativeWRTX2() * eta\n",
    "    x4 = x4 - derivativeWRTX4() * eta\n",
    "    x6 = x6 - derivativeWRTX6() * eta\n",
    "    a = a - derivativeWRTa() * eta\n",
    "    #print(totalError())   \n",
    "    \n",
    "print(a)\n"
   ]
  }
 ],
 "metadata": {
  "kernelspec": {
   "display_name": "Python 3",
   "language": "python",
   "name": "python3"
  },
  "language_info": {
   "codemirror_mode": {
    "name": "ipython",
    "version": 3
   },
   "file_extension": ".py",
   "mimetype": "text/x-python",
   "name": "python",
   "nbconvert_exporter": "python",
   "pygments_lexer": "ipython3",
   "version": "3.6.0"
  }
 },
 "nbformat": 4,
 "nbformat_minor": 2
}
