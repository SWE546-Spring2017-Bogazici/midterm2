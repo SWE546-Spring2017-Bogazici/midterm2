{
 "cells": [
  {
   "cell_type": "code",
   "execution_count": 24,
   "metadata": {
    "collapsed": false
   },
   "outputs": [
    {
     "name": "stdout",
     "output_type": "stream",
     "text": [
      "\n",
      "The value of x is 2.0362243537\n",
      "The value of x is 8.1448974148\n",
      "The value of x is 29.9324979994\n",
      "\n",
      "The value of A is 2.0362243537\n"
     ]
    }
   ],
   "source": [
    "# xt 0 a*xt-1 + Et \n",
    "# Et = xt - a*xt-1\n",
    "\n",
    "# Define libraries\n",
    "import scipy as sc\n",
    "import numpy as np\n",
    "import pandas as pd\n",
    "\n",
    "import matplotlib as mpl\n",
    "import matplotlib.pylab as plt\n",
    "\n",
    "# 1 X_2 4 X_4 14.7 X_6 61.2\n",
    "\n",
    "# Assign values to unknown elements\n",
    "\n",
    "Find_A = 1\n",
    "\n",
    "X_2 = 1\n",
    "X_4 = 1\n",
    "X_6 = 1\n",
    "\n",
    "# Return the least-squares solution to a linear matrix equation by using the following matrices\n",
    "\n",
    "for i in range(1000):\n",
    "    Y = np.matrix(np.array([X_2,4, X_4, 15.7, X_6, 61.2])).T\n",
    "    A = np.matrix(np.array([1, X_2, 4, X_4, 14.7, X_6])).T\n",
    "    \n",
    "    Function = np.linalg.lstsq(A,Y)\n",
    "    Find_A = float(Function[0])\n",
    "    \n",
    "    X_2 = Find_A * 1\n",
    "    X_4 = Find_A * 4\n",
    "    X_6 = Find_A * 14.7\n",
    "    \n",
    "# Print the calculated results\n",
    "\n",
    "print ''\n",
    "print(\"The value of x is %s\" % (X_2)) \n",
    "print(\"The value of x is %s\" % (X_4)) \n",
    "print(\"The value of x is %s\" % (X_6)) \n",
    "print ''\n",
    "print(\"The value of A is %s\" % (Find_A)) \n"
   ]
  },
  {
   "cell_type": "code",
   "execution_count": null,
   "metadata": {
    "collapsed": true
   },
   "outputs": [],
   "source": []
  }
 ],
 "metadata": {
  "kernelspec": {
   "display_name": "Python 2",
   "language": "python",
   "name": "python2"
  },
  "language_info": {
   "codemirror_mode": {
    "name": "ipython",
    "version": 2
   },
   "file_extension": ".py",
   "mimetype": "text/x-python",
   "name": "python",
   "nbconvert_exporter": "python",
   "pygments_lexer": "ipython2",
   "version": "2.7.13"
  }
 },
 "nbformat": 4,
 "nbformat_minor": 2
}
