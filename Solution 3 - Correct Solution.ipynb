{
 "cells": [
  {
   "cell_type": "code",
   "execution_count": 26,
   "metadata": {
    "collapsed": false
   },
   "outputs": [
    {
     "name": "stdout",
     "output_type": "stream",
     "text": [
      "2.01961720672 8.07846882688 29.6883729388\n",
      "2.01961720672\n"
     ]
    }
   ],
   "source": [
    "%matplotlib inline\n",
    "\n",
    "import scipy as sc\n",
    "import numpy as np\n",
    "import pandas as pd\n",
    "import matplotlib as mpl\n",
    "import matplotlib.pylab as plt\n",
    "\n",
    "x2 = 1\n",
    "x4 = 1\n",
    "x6 = 1\n",
    "\n",
    "a = 1\n",
    "for i in range(1000):\n",
    "    x = np.matrix(np.array([1, x2,4, x4, 15.7, x6, 61.2])).T\n",
    "    a1 = 0\n",
    "    a2 = 0\n",
    "    for j in range(1, 7):\n",
    "        a1 += x[j] * x[j-1]\n",
    "        \n",
    "    for j in range(0, 6):\n",
    "        a2 += x[j] * x[j]\n",
    "    a = float(a1/a2)\n",
    "    x2 = a * 1\n",
    "    x4 = a * 4\n",
    "    x6 = a * 14.7\n",
    "\n",
    "print x2,x4,x6\n",
    "print a\n"
   ]
  },
  {
   "cell_type": "code",
   "execution_count": null,
   "metadata": {
    "collapsed": true
   },
   "outputs": [],
   "source": []
  },
  {
   "cell_type": "code",
   "execution_count": null,
   "metadata": {
    "collapsed": true
   },
   "outputs": [],
   "source": []
  }
 ],
 "metadata": {
  "kernelspec": {
   "display_name": "Python 2",
   "language": "python",
   "name": "python2"
  },
  "language_info": {
   "codemirror_mode": {
    "name": "ipython",
    "version": 2
   },
   "file_extension": ".py",
   "mimetype": "text/x-python",
   "name": "python",
   "nbconvert_exporter": "python",
   "pygments_lexer": "ipython2",
   "version": "2.7.13"
  }
 },
 "nbformat": 4,
 "nbformat_minor": 2
}
