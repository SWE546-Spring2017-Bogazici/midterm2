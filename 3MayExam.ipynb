{
 "cells": [
  {
   "cell_type": "code",
   "execution_count": 1,
   "metadata": {
    "collapsed": true
   },
   "outputs": [],
   "source": [
    "import numpy as np\n",
    "import random\n",
    "\n",
    "%matplotlib inline\n",
    "from __future__ import print_function\n",
    "from ipywidgets import interact, interactive, fixed\n",
    "import ipywidgets as widgets\n",
    "import matplotlib.pylab as plt\n",
    "from IPython.display import clear_output, display, HTML\n",
    "import scipy as sc\n",
    "import numpy as np\n",
    "import pandas as pd\n",
    "import matplotlib as mpl\n",
    "import matplotlib.pylab as plt"
   ]
  },
  {
   "cell_type": "code",
   "execution_count": 78,
   "metadata": {
    "collapsed": false
   },
   "outputs": [
    {
     "name": "stdout",
     "output_type": "stream",
     "text": [
      "Random values:\n",
      "a =  0.7098101042634115 , x_2 =  0.960685479788329 , x_4 =  0.3609314202108045 , x_6 =  0.956331906227211\n",
      "Total Error Before start: 3978.482382757296\n",
      "------------------------------------\n",
      "Total Error in the end: 0.695699274035\n",
      "a =  2.0327516806367942 , x_2 =  1.9804386720926568 , x_4 =  7.407777064202904 , x_6 =  30.062480740871607\n",
      "-------- Final Series -------\n",
      "1, 1.9804386720926568 4, 7.407777064202904 ,14.7, 30.062480740871607 ,61.2\n"
     ]
    }
   ],
   "source": [
    "def derivative_a(x,_x,a): #with respect to a\n",
    "    return (2*a*_x**2)-(2*x*_x)\n",
    "def derivate_x(x,_x,a): # with respect to x\n",
    "    return (2*x)-(2*_x*a)\n",
    "def derivate_x_(x,_x,a): # with respect to x_t-1\n",
    "    return (2*a**2*_x)-(2*x*a)\n",
    "\n",
    "p = random.random()\n",
    "q = random.random()\n",
    "r = random.random()\n",
    "a = random.random()\n",
    "\n",
    "y = [p,4,q,14.7,r,61.2]\n",
    "A = [1,p,4,q,14.7,r]\n",
    "\n",
    "def total_error():\n",
    "    te = 0\n",
    "    for i in range(len(y)):\n",
    "        error = (A[i]*a) - y[i]\n",
    "        error = round(error,6)\n",
    "        te = te + error**2\n",
    "    return te\n",
    "\n",
    "print('Random values:')\n",
    "print('a = ',a,', x_2 = ',p,', x_4 = ',q,', x_6 = ',r)\n",
    "print('Total Error Before start:', total_error())\n",
    "print('------------------------------------')\n",
    "\n",
    "trials = 150\n",
    "epoch = 5000\n",
    "eta = 0.00003366\n",
    "\n",
    "#In the loop for each value, change the value of a,p,q and r at each iteration. Value of a is changed multiple\n",
    "#times per iteration.\n",
    "for t in range(trials):\n",
    "    for e in range(epoch):\n",
    "        a_der = derivative_a(p,1,a)        \n",
    "        a = a - (eta*a_der)\n",
    "        x_der = derivate_x(p,1,a)\n",
    "        p = p -(eta*x_der)\n",
    "        a_der = derivative_a(4,p,a)        \n",
    "        a = a - (eta*a_der)\n",
    "        x__der = derivate_x_(4,p,a)\n",
    "        p = p - (eta*x__der)\n",
    "        a_der = derivative_a(q,4,a)        \n",
    "        a = a - (eta*a_der)\n",
    "        x_der = derivate_x(q,4,a)\n",
    "        q = q - (eta*x_der)\n",
    "        a_der = derivative_a(14.7,q,a)        \n",
    "        a = a - (eta*a_der)\n",
    "        x__der = derivate_x_(14.7,q,a)\n",
    "        q = q - (eta*x__der)\n",
    "        a_der = derivative_a(r,14.7,a)        \n",
    "        a = a - (eta*a_der)\n",
    "        x_der = derivate_x(r,14.7,a)\n",
    "        r = r - (eta*x_der)\n",
    "        a_der = derivative_a(61.2,r,a)        \n",
    "        a = a - (eta*a_der)\n",
    "        x__der = derivate_x_(61.2,r,a)\n",
    "        r = r - (eta*x__der)\n",
    "        y[0] = p\n",
    "        A[1] = p\n",
    "        y[2] = q\n",
    "        A[3] = q\n",
    "        y[4]=r\n",
    "        A[5]=r\n",
    "        \n",
    "        \n",
    "        \n",
    "\n",
    "print('Total Error in the end:' ,total_error())\n",
    "print('a = ',a,', x_2 = ',p,', x_4 = ',q,', x_6 = ',r)\n",
    "print('-------- Final Series -------')\n",
    "print('1,',p,'4,',q,',14.7,',r,',61.2')"
   ]
  },
  {
   "cell_type": "code",
   "execution_count": null,
   "metadata": {
    "collapsed": true
   },
   "outputs": [],
   "source": []
  },
  {
   "cell_type": "code",
   "execution_count": null,
   "metadata": {
    "collapsed": true
   },
   "outputs": [],
   "source": []
  }
 ],
 "metadata": {
  "kernelspec": {
   "display_name": "Python 3",
   "language": "python",
   "name": "python3"
  },
  "language_info": {
   "codemirror_mode": {
    "name": "ipython",
    "version": 3
   },
   "file_extension": ".py",
   "mimetype": "text/x-python",
   "name": "python",
   "nbconvert_exporter": "python",
   "pygments_lexer": "ipython3",
   "version": "3.6.0"
  }
 },
 "nbformat": 4,
 "nbformat_minor": 2
}
